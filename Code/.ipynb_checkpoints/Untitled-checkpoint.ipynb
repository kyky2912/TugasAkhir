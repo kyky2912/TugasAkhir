{
 "cells": [
  {
   "cell_type": "code",
   "execution_count": 1,
   "id": "ec1514a6",
   "metadata": {},
   "outputs": [],
   "source": [
    "import pandas as pd\n",
    "import matplotlib.pyplot as plt"
   ]
  },
  {
   "cell_type": "code",
   "execution_count": 7,
   "id": "b3cdc448",
   "metadata": {},
   "outputs": [],
   "source": [
    "bbri = pd.read_excel(\"BBRI/outputs/Perbandingan/BBRI_200E_256.xlsx\")\n",
    "bmri = pd.read_excel(\"BMRI/outputs/Perbandingan/BMRI_200E_256.xlsx\")\n",
    "bbca = pd.read_excel(\"BBCA/outputs/Perbandingan/BBCA_200E_256.xlsx\")"
   ]
  },
  {
   "cell_type": "code",
   "execution_count": 9,
   "id": "f4cb65f0",
   "metadata": {},
   "outputs": [
    {
     "name": "stdout",
     "output_type": "stream",
     "text": [
      "     Unnamed: 0   Close     Prediksi\n",
      "0          2152  4050.0  4017.360840\n",
      "1          2153  4070.0  3978.495361\n",
      "2          2154  4080.0  3995.908936\n",
      "3          2155  4070.0  3994.179443\n",
      "4          2156  4200.0  3980.436523\n",
      "..          ...     ...          ...\n",
      "532        2684  4300.0  4288.184082\n",
      "533        2685  4350.0  4187.996094\n",
      "534        2686  4290.0  4256.487793\n",
      "535        2687  4240.0  4183.579590\n",
      "536        2688  4250.0  4150.469238\n",
      "\n",
      "[537 rows x 3 columns]\n",
      "     Unnamed: 0  Close     Prediksi\n",
      "0          2187   6425  6452.014160\n",
      "1          2188   6525  6364.358398\n",
      "2          2189   6550  6468.530273\n",
      "3          2190   6600  6482.919434\n",
      "4          2191   6575  6536.747559\n",
      "..          ...    ...          ...\n",
      "541        2728   7050  7014.726074\n",
      "542        2729   7000  6981.687988\n",
      "543        2730   7050  6938.023438\n",
      "544        2731   7100  6983.432129\n",
      "545        2732   7025  7020.132324\n",
      "\n",
      "[546 rows x 3 columns]\n",
      "     Unnamed: 0  Close     Prediksi\n",
      "0          2188   6070  6116.281250\n",
      "1          2189   6110  6105.167969\n",
      "2          2190   6125  6128.333496\n",
      "3          2191   6200  6145.479492\n",
      "4          2192   6175  6200.323730\n",
      "..          ...    ...          ...\n",
      "541        2729   7300  7360.493652\n",
      "542        2730   7350  7351.097656\n",
      "543        2731   7350  7378.952637\n",
      "544        2732   7300  7387.099609\n",
      "545        2733   7300  7358.252441\n",
      "\n",
      "[546 rows x 3 columns]\n"
     ]
    }
   ],
   "source": [
    "print(bbri)\n",
    "print(bmri)\n",
    "print(bbca)"
   ]
  },
  {
   "cell_type": "code",
   "execution_count": null,
   "id": "7decac9c",
   "metadata": {},
   "outputs": [],
   "source": []
  }
 ],
 "metadata": {
  "kernelspec": {
   "display_name": "Python 3",
   "language": "python",
   "name": "python3"
  },
  "language_info": {
   "codemirror_mode": {
    "name": "ipython",
    "version": 3
   },
   "file_extension": ".py",
   "mimetype": "text/x-python",
   "name": "python",
   "nbconvert_exporter": "python",
   "pygments_lexer": "ipython3",
   "version": "3.8.8"
  }
 },
 "nbformat": 4,
 "nbformat_minor": 5
}
